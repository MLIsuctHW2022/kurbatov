{
  "metadata": {
    "kernelspec": {
      "language": "python",
      "display_name": "Python 3",
      "name": "python3"
    },
    "language_info": {
      "name": "python",
      "version": "3.7.12",
      "mimetype": "text/x-python",
      "codemirror_mode": {
        "name": "ipython",
        "version": 3
      },
      "pygments_lexer": "ipython3",
      "nbconvert_exporter": "python",
      "file_extension": ".py"
    },
    "colab": {
      "provenance": []
    }
  },
  "nbformat_minor": 0,
  "nbformat": 4,
  "cells": [
    {
      "cell_type": "code",
      "source": [
        "import os\n",
        "\n",
        "import numpy as np\n",
        "import pandas as pd\n",
        "\n",
        "from sklearn.model_selection import train_test_split\n",
        "from sklearn.preprocessing import StandardScaler,LabelEncoder\n",
        "from sklearn.linear_model import LogisticRegression\n",
        "from sklearn.neighbors import KNeighborsClassifier\n",
        "from sklearn.tree import DecisionTreeClassifier\n",
        "from sklearn.ensemble import RandomForestClassifier\n",
        "from sklearn.metrics import accuracy_score\n",
        "\n",
        "import matplotlib.pyplot as plt\n",
        "import seaborn as sns\n",
        "\n",
        "for dirname, _, filenames in os.walk('/kaggle/input'):\n",
        "    for filename in filenames:\n",
        "        print(os.path.join(dirname, filename))"
      ],
      "metadata": {
        "_uuid": "8f2839f25d086af736a60e9eeb907d3b93b6e0e5",
        "_cell_guid": "b1076dfc-b9ad-4769-8c92-a6c4dae69d19",
        "execution": {
          "iopub.status.busy": "2022-12-14T15:16:19.780225Z",
          "iopub.execute_input": "2022-12-14T15:16:19.780756Z",
          "iopub.status.idle": "2022-12-14T15:16:19.803765Z",
          "shell.execute_reply.started": "2022-12-14T15:16:19.780712Z",
          "shell.execute_reply": "2022-12-14T15:16:19.802907Z"
        },
        "trusted": true,
        "id": "tYSEzaTDdulp",
        "outputId": "4f38c902-11c6-4e81-d5ad-6be64b783c12"
      },
      "execution_count": null,
      "outputs": [
        {
          "name": "stdout",
          "text": "/kaggle/input/bank-account-fraud-dataset-neurips-2022/Base.csv\n/kaggle/input/bank-account-fraud-dataset-neurips-2022/Variant IV.csv\n/kaggle/input/bank-account-fraud-dataset-neurips-2022/Variant V.csv\n/kaggle/input/bank-account-fraud-dataset-neurips-2022/Variant I.csv\n/kaggle/input/bank-account-fraud-dataset-neurips-2022/Variant III.csv\n/kaggle/input/bank-account-fraud-dataset-neurips-2022/Variant II.csv\n",
          "output_type": "stream"
        }
      ]
    },
    {
      "cell_type": "code",
      "source": [
        "df = pd.read_csv('/kaggle/input/bank-account-fraud-dataset-neurips-2022/Base.csv')\n",
        "df"
      ],
      "metadata": {
        "execution": {
          "iopub.status.busy": "2022-12-14T15:16:19.805522Z",
          "iopub.execute_input": "2022-12-14T15:16:19.806161Z",
          "iopub.status.idle": "2022-12-14T15:16:25.372518Z",
          "shell.execute_reply.started": "2022-12-14T15:16:19.806122Z",
          "shell.execute_reply": "2022-12-14T15:16:25.371120Z"
        },
        "trusted": true,
        "id": "itCJ5BBgdulz",
        "outputId": "042e5bae-71ca-455d-e17f-342e00145d68"
      },
      "execution_count": null,
      "outputs": [
        {
          "execution_count": 249,
          "output_type": "execute_result",
          "data": {
            "text/plain": "        fraud_bool  income  name_email_similarity  prev_address_months_count  \\\n0                1     0.9               0.166828                         -1   \n1                1     0.9               0.296286                         -1   \n2                1     0.9               0.044985                         -1   \n3                1     0.9               0.159511                         -1   \n4                1     0.9               0.596414                         -1   \n...            ...     ...                    ...                        ...   \n999995           0     0.6               0.192631                         -1   \n999996           0     0.8               0.322989                        148   \n999997           0     0.8               0.879403                         -1   \n999998           0     0.9               0.762112                         -1   \n999999           0     0.2               0.697452                         -1   \n\n        current_address_months_count  customer_age  days_since_request  \\\n0                                 88            50            0.020925   \n1                                144            50            0.005418   \n2                                132            40            3.108549   \n3                                 22            50            0.019079   \n4                                218            50            0.004441   \n...                              ...           ...                 ...   \n999995                           104            40            0.030592   \n999996                             9            50            1.628119   \n999997                            30            20            0.018563   \n999998                           189            20            0.015352   \n999999                           321            20            2.655916   \n\n        intended_balcon_amount payment_type  zip_count_4w  ...  \\\n0                    -1.331345           AA           769  ...   \n1                    -0.816224           AB           366  ...   \n2                    -0.755728           AC           870  ...   \n3                    -1.205124           AB           810  ...   \n4                    -0.773276           AB           890  ...   \n...                        ...          ...           ...  ...   \n999995               -1.044454           AB           804  ...   \n999996               -1.409803           AC          3306  ...   \n999997               34.692760           AA          1522  ...   \n999998               94.661055           AA          1418  ...   \n999999                9.908499           AA           951  ...   \n\n        has_other_cards  proposed_credit_limit  foreign_request    source  \\\n0                     0                  500.0                0  INTERNET   \n1                     0                 1500.0                0  INTERNET   \n2                     0                  200.0                0  INTERNET   \n3                     1                  200.0                0  INTERNET   \n4                     0                 1500.0                0  INTERNET   \n...                 ...                    ...              ...       ...   \n999995                0                  200.0                0  INTERNET   \n999996                0                  200.0                0  INTERNET   \n999997                0                  200.0                0  INTERNET   \n999998                0                  500.0                0  INTERNET   \n999999                0                  200.0                0  INTERNET   \n\n        session_length_in_minutes  device_os  keep_alive_session  \\\n0                        3.888115    windows                   0   \n1                       31.798819    windows                   0   \n2                        4.728705      other                   0   \n3                        2.047904      linux                   0   \n4                        3.775225  macintosh                   1   \n...                           ...        ...                 ...   \n999995                   8.511502      linux                   1   \n999996                   8.967865    windows                   0   \n999997                   8.195531      other                   0   \n999998                   4.336064    windows                   1   \n999999                   6.717022      linux                   0   \n\n        device_distinct_emails_8w device_fraud_count  month  \n0                               1                  0      7  \n1                               1                  0      7  \n2                               1                  0      7  \n3                               1                  0      7  \n4                               1                  0      7  \n...                           ...                ...    ...  \n999995                          1                  0      4  \n999996                          1                  0      4  \n999997                          1                  0      4  \n999998                          1                  0      4  \n999999                          1                  0      4  \n\n[1000000 rows x 32 columns]",
            "text/html": "<div>\n<style scoped>\n    .dataframe tbody tr th:only-of-type {\n        vertical-align: middle;\n    }\n\n    .dataframe tbody tr th {\n        vertical-align: top;\n    }\n\n    .dataframe thead th {\n        text-align: right;\n    }\n</style>\n<table border=\"1\" class=\"dataframe\">\n  <thead>\n    <tr style=\"text-align: right;\">\n      <th></th>\n      <th>fraud_bool</th>\n      <th>income</th>\n      <th>name_email_similarity</th>\n      <th>prev_address_months_count</th>\n      <th>current_address_months_count</th>\n      <th>customer_age</th>\n      <th>days_since_request</th>\n      <th>intended_balcon_amount</th>\n      <th>payment_type</th>\n      <th>zip_count_4w</th>\n      <th>...</th>\n      <th>has_other_cards</th>\n      <th>proposed_credit_limit</th>\n      <th>foreign_request</th>\n      <th>source</th>\n      <th>session_length_in_minutes</th>\n      <th>device_os</th>\n      <th>keep_alive_session</th>\n      <th>device_distinct_emails_8w</th>\n      <th>device_fraud_count</th>\n      <th>month</th>\n    </tr>\n  </thead>\n  <tbody>\n    <tr>\n      <th>0</th>\n      <td>1</td>\n      <td>0.9</td>\n      <td>0.166828</td>\n      <td>-1</td>\n      <td>88</td>\n      <td>50</td>\n      <td>0.020925</td>\n      <td>-1.331345</td>\n      <td>AA</td>\n      <td>769</td>\n      <td>...</td>\n      <td>0</td>\n      <td>500.0</td>\n      <td>0</td>\n      <td>INTERNET</td>\n      <td>3.888115</td>\n      <td>windows</td>\n      <td>0</td>\n      <td>1</td>\n      <td>0</td>\n      <td>7</td>\n    </tr>\n    <tr>\n      <th>1</th>\n      <td>1</td>\n      <td>0.9</td>\n      <td>0.296286</td>\n      <td>-1</td>\n      <td>144</td>\n      <td>50</td>\n      <td>0.005418</td>\n      <td>-0.816224</td>\n      <td>AB</td>\n      <td>366</td>\n      <td>...</td>\n      <td>0</td>\n      <td>1500.0</td>\n      <td>0</td>\n      <td>INTERNET</td>\n      <td>31.798819</td>\n      <td>windows</td>\n      <td>0</td>\n      <td>1</td>\n      <td>0</td>\n      <td>7</td>\n    </tr>\n    <tr>\n      <th>2</th>\n      <td>1</td>\n      <td>0.9</td>\n      <td>0.044985</td>\n      <td>-1</td>\n      <td>132</td>\n      <td>40</td>\n      <td>3.108549</td>\n      <td>-0.755728</td>\n      <td>AC</td>\n      <td>870</td>\n      <td>...</td>\n      <td>0</td>\n      <td>200.0</td>\n      <td>0</td>\n      <td>INTERNET</td>\n      <td>4.728705</td>\n      <td>other</td>\n      <td>0</td>\n      <td>1</td>\n      <td>0</td>\n      <td>7</td>\n    </tr>\n    <tr>\n      <th>3</th>\n      <td>1</td>\n      <td>0.9</td>\n      <td>0.159511</td>\n      <td>-1</td>\n      <td>22</td>\n      <td>50</td>\n      <td>0.019079</td>\n      <td>-1.205124</td>\n      <td>AB</td>\n      <td>810</td>\n      <td>...</td>\n      <td>1</td>\n      <td>200.0</td>\n      <td>0</td>\n      <td>INTERNET</td>\n      <td>2.047904</td>\n      <td>linux</td>\n      <td>0</td>\n      <td>1</td>\n      <td>0</td>\n      <td>7</td>\n    </tr>\n    <tr>\n      <th>4</th>\n      <td>1</td>\n      <td>0.9</td>\n      <td>0.596414</td>\n      <td>-1</td>\n      <td>218</td>\n      <td>50</td>\n      <td>0.004441</td>\n      <td>-0.773276</td>\n      <td>AB</td>\n      <td>890</td>\n      <td>...</td>\n      <td>0</td>\n      <td>1500.0</td>\n      <td>0</td>\n      <td>INTERNET</td>\n      <td>3.775225</td>\n      <td>macintosh</td>\n      <td>1</td>\n      <td>1</td>\n      <td>0</td>\n      <td>7</td>\n    </tr>\n    <tr>\n      <th>...</th>\n      <td>...</td>\n      <td>...</td>\n      <td>...</td>\n      <td>...</td>\n      <td>...</td>\n      <td>...</td>\n      <td>...</td>\n      <td>...</td>\n      <td>...</td>\n      <td>...</td>\n      <td>...</td>\n      <td>...</td>\n      <td>...</td>\n      <td>...</td>\n      <td>...</td>\n      <td>...</td>\n      <td>...</td>\n      <td>...</td>\n      <td>...</td>\n      <td>...</td>\n      <td>...</td>\n    </tr>\n    <tr>\n      <th>999995</th>\n      <td>0</td>\n      <td>0.6</td>\n      <td>0.192631</td>\n      <td>-1</td>\n      <td>104</td>\n      <td>40</td>\n      <td>0.030592</td>\n      <td>-1.044454</td>\n      <td>AB</td>\n      <td>804</td>\n      <td>...</td>\n      <td>0</td>\n      <td>200.0</td>\n      <td>0</td>\n      <td>INTERNET</td>\n      <td>8.511502</td>\n      <td>linux</td>\n      <td>1</td>\n      <td>1</td>\n      <td>0</td>\n      <td>4</td>\n    </tr>\n    <tr>\n      <th>999996</th>\n      <td>0</td>\n      <td>0.8</td>\n      <td>0.322989</td>\n      <td>148</td>\n      <td>9</td>\n      <td>50</td>\n      <td>1.628119</td>\n      <td>-1.409803</td>\n      <td>AC</td>\n      <td>3306</td>\n      <td>...</td>\n      <td>0</td>\n      <td>200.0</td>\n      <td>0</td>\n      <td>INTERNET</td>\n      <td>8.967865</td>\n      <td>windows</td>\n      <td>0</td>\n      <td>1</td>\n      <td>0</td>\n      <td>4</td>\n    </tr>\n    <tr>\n      <th>999997</th>\n      <td>0</td>\n      <td>0.8</td>\n      <td>0.879403</td>\n      <td>-1</td>\n      <td>30</td>\n      <td>20</td>\n      <td>0.018563</td>\n      <td>34.692760</td>\n      <td>AA</td>\n      <td>1522</td>\n      <td>...</td>\n      <td>0</td>\n      <td>200.0</td>\n      <td>0</td>\n      <td>INTERNET</td>\n      <td>8.195531</td>\n      <td>other</td>\n      <td>0</td>\n      <td>1</td>\n      <td>0</td>\n      <td>4</td>\n    </tr>\n    <tr>\n      <th>999998</th>\n      <td>0</td>\n      <td>0.9</td>\n      <td>0.762112</td>\n      <td>-1</td>\n      <td>189</td>\n      <td>20</td>\n      <td>0.015352</td>\n      <td>94.661055</td>\n      <td>AA</td>\n      <td>1418</td>\n      <td>...</td>\n      <td>0</td>\n      <td>500.0</td>\n      <td>0</td>\n      <td>INTERNET</td>\n      <td>4.336064</td>\n      <td>windows</td>\n      <td>1</td>\n      <td>1</td>\n      <td>0</td>\n      <td>4</td>\n    </tr>\n    <tr>\n      <th>999999</th>\n      <td>0</td>\n      <td>0.2</td>\n      <td>0.697452</td>\n      <td>-1</td>\n      <td>321</td>\n      <td>20</td>\n      <td>2.655916</td>\n      <td>9.908499</td>\n      <td>AA</td>\n      <td>951</td>\n      <td>...</td>\n      <td>0</td>\n      <td>200.0</td>\n      <td>0</td>\n      <td>INTERNET</td>\n      <td>6.717022</td>\n      <td>linux</td>\n      <td>0</td>\n      <td>1</td>\n      <td>0</td>\n      <td>4</td>\n    </tr>\n  </tbody>\n</table>\n<p>1000000 rows × 32 columns</p>\n</div>"
          },
          "metadata": {}
        }
      ]
    },
    {
      "cell_type": "code",
      "source": [
        "df.info()"
      ],
      "metadata": {
        "execution": {
          "iopub.status.busy": "2022-12-14T15:16:25.375040Z",
          "iopub.execute_input": "2022-12-14T15:16:25.375977Z",
          "iopub.status.idle": "2022-12-14T15:16:25.649089Z",
          "shell.execute_reply.started": "2022-12-14T15:16:25.375921Z",
          "shell.execute_reply": "2022-12-14T15:16:25.647829Z"
        },
        "trusted": true,
        "id": "CsRqxVsWdul1",
        "outputId": "4da5362c-1428-474c-c6f7-3cf9dd3fd914"
      },
      "execution_count": null,
      "outputs": [
        {
          "name": "stdout",
          "text": "<class 'pandas.core.frame.DataFrame'>\nRangeIndex: 1000000 entries, 0 to 999999\nData columns (total 32 columns):\n #   Column                            Non-Null Count    Dtype  \n---  ------                            --------------    -----  \n 0   fraud_bool                        1000000 non-null  int64  \n 1   income                            1000000 non-null  float64\n 2   name_email_similarity             1000000 non-null  float64\n 3   prev_address_months_count         1000000 non-null  int64  \n 4   current_address_months_count      1000000 non-null  int64  \n 5   customer_age                      1000000 non-null  int64  \n 6   days_since_request                1000000 non-null  float64\n 7   intended_balcon_amount            1000000 non-null  float64\n 8   payment_type                      1000000 non-null  object \n 9   zip_count_4w                      1000000 non-null  int64  \n 10  velocity_6h                       1000000 non-null  float64\n 11  velocity_24h                      1000000 non-null  float64\n 12  velocity_4w                       1000000 non-null  float64\n 13  bank_branch_count_8w              1000000 non-null  int64  \n 14  date_of_birth_distinct_emails_4w  1000000 non-null  int64  \n 15  employment_status                 1000000 non-null  object \n 16  credit_risk_score                 1000000 non-null  int64  \n 17  email_is_free                     1000000 non-null  int64  \n 18  housing_status                    1000000 non-null  object \n 19  phone_home_valid                  1000000 non-null  int64  \n 20  phone_mobile_valid                1000000 non-null  int64  \n 21  bank_months_count                 1000000 non-null  int64  \n 22  has_other_cards                   1000000 non-null  int64  \n 23  proposed_credit_limit             1000000 non-null  float64\n 24  foreign_request                   1000000 non-null  int64  \n 25  source                            1000000 non-null  object \n 26  session_length_in_minutes         1000000 non-null  float64\n 27  device_os                         1000000 non-null  object \n 28  keep_alive_session                1000000 non-null  int64  \n 29  device_distinct_emails_8w         1000000 non-null  int64  \n 30  device_fraud_count                1000000 non-null  int64  \n 31  month                             1000000 non-null  int64  \ndtypes: float64(9), int64(18), object(5)\nmemory usage: 244.1+ MB\n",
          "output_type": "stream"
        }
      ]
    },
    {
      "cell_type": "code",
      "source": [
        "df.isna().sum()"
      ],
      "metadata": {
        "execution": {
          "iopub.status.busy": "2022-12-14T15:16:25.650620Z",
          "iopub.execute_input": "2022-12-14T15:16:25.651120Z",
          "iopub.status.idle": "2022-12-14T15:16:25.914213Z",
          "shell.execute_reply.started": "2022-12-14T15:16:25.651081Z",
          "shell.execute_reply": "2022-12-14T15:16:25.912895Z"
        },
        "trusted": true,
        "id": "L7byhGHhdul2",
        "outputId": "8e8a1fbc-6338-4903-a8c4-1c4430062910"
      },
      "execution_count": null,
      "outputs": [
        {
          "execution_count": 251,
          "output_type": "execute_result",
          "data": {
            "text/plain": "fraud_bool                          0\nincome                              0\nname_email_similarity               0\nprev_address_months_count           0\ncurrent_address_months_count        0\ncustomer_age                        0\ndays_since_request                  0\nintended_balcon_amount              0\npayment_type                        0\nzip_count_4w                        0\nvelocity_6h                         0\nvelocity_24h                        0\nvelocity_4w                         0\nbank_branch_count_8w                0\ndate_of_birth_distinct_emails_4w    0\nemployment_status                   0\ncredit_risk_score                   0\nemail_is_free                       0\nhousing_status                      0\nphone_home_valid                    0\nphone_mobile_valid                  0\nbank_months_count                   0\nhas_other_cards                     0\nproposed_credit_limit               0\nforeign_request                     0\nsource                              0\nsession_length_in_minutes           0\ndevice_os                           0\nkeep_alive_session                  0\ndevice_distinct_emails_8w           0\ndevice_fraud_count                  0\nmonth                               0\ndtype: int64"
          },
          "metadata": {}
        }
      ]
    },
    {
      "cell_type": "code",
      "source": [
        "df.duplicated().sum()"
      ],
      "metadata": {
        "execution": {
          "iopub.status.busy": "2022-12-14T15:16:25.917341Z",
          "iopub.execute_input": "2022-12-14T15:16:25.917809Z",
          "iopub.status.idle": "2022-12-14T15:16:27.821725Z",
          "shell.execute_reply.started": "2022-12-14T15:16:25.917768Z",
          "shell.execute_reply": "2022-12-14T15:16:27.820178Z"
        },
        "trusted": true,
        "id": "7-4IA8yQdul3",
        "outputId": "5b239305-db1d-4e99-b7b9-9a69dd2392a8"
      },
      "execution_count": null,
      "outputs": [
        {
          "execution_count": 252,
          "output_type": "execute_result",
          "data": {
            "text/plain": "0"
          },
          "metadata": {}
        }
      ]
    },
    {
      "cell_type": "code",
      "source": [
        "df.columns"
      ],
      "metadata": {
        "execution": {
          "iopub.status.busy": "2022-12-14T15:16:27.823499Z",
          "iopub.execute_input": "2022-12-14T15:16:27.824030Z",
          "iopub.status.idle": "2022-12-14T15:16:27.833353Z",
          "shell.execute_reply.started": "2022-12-14T15:16:27.823979Z",
          "shell.execute_reply": "2022-12-14T15:16:27.831855Z"
        },
        "trusted": true,
        "id": "gNyJJgszdul5",
        "outputId": "651e893a-1318-4ee5-a16d-dc4fad39102e"
      },
      "execution_count": null,
      "outputs": [
        {
          "execution_count": 253,
          "output_type": "execute_result",
          "data": {
            "text/plain": "Index(['fraud_bool', 'income', 'name_email_similarity',\n       'prev_address_months_count', 'current_address_months_count',\n       'customer_age', 'days_since_request', 'intended_balcon_amount',\n       'payment_type', 'zip_count_4w', 'velocity_6h', 'velocity_24h',\n       'velocity_4w', 'bank_branch_count_8w',\n       'date_of_birth_distinct_emails_4w', 'employment_status',\n       'credit_risk_score', 'email_is_free', 'housing_status',\n       'phone_home_valid', 'phone_mobile_valid', 'bank_months_count',\n       'has_other_cards', 'proposed_credit_limit', 'foreign_request', 'source',\n       'session_length_in_minutes', 'device_os', 'keep_alive_session',\n       'device_distinct_emails_8w', 'device_fraud_count', 'month'],\n      dtype='object')"
          },
          "metadata": {}
        }
      ]
    },
    {
      "cell_type": "markdown",
      "source": [
        "Обзор"
      ],
      "metadata": {
        "id": "-RVBSiDgdul6"
      }
    },
    {
      "cell_type": "code",
      "source": [
        "df['month'].value_counts()"
      ],
      "metadata": {
        "execution": {
          "iopub.status.busy": "2022-12-14T15:16:27.835304Z",
          "iopub.execute_input": "2022-12-14T15:16:27.836062Z",
          "iopub.status.idle": "2022-12-14T15:16:27.857026Z",
          "shell.execute_reply.started": "2022-12-14T15:16:27.836020Z",
          "shell.execute_reply": "2022-12-14T15:16:27.855629Z"
        },
        "trusted": true,
        "id": "_0j21ERtdul-",
        "outputId": "b5485e19-019f-45c6-92f0-27de11d44a01"
      },
      "execution_count": null,
      "outputs": [
        {
          "execution_count": 254,
          "output_type": "execute_result",
          "data": {
            "text/plain": "3    150936\n2    136979\n0    132440\n4    127691\n1    127620\n5    119323\n6    108168\n7     96843\nName: month, dtype: int64"
          },
          "metadata": {}
        }
      ]
    },
    {
      "cell_type": "code",
      "source": [
        "sns.set_palette(sns.color_palette([\"#7FFF82\", \"#FF0000\"]))\n",
        "f, ax = plt.subplots(figsize = (8, 5))\n",
        "sns.countplot(x = df['customer_age'], hue = df['fraud_bool'])"
      ],
      "metadata": {
        "execution": {
          "iopub.status.busy": "2022-12-14T15:16:27.858647Z",
          "iopub.execute_input": "2022-12-14T15:16:27.859109Z",
          "iopub.status.idle": "2022-12-14T15:16:28.347374Z",
          "shell.execute_reply.started": "2022-12-14T15:16:27.859069Z",
          "shell.execute_reply": "2022-12-14T15:16:28.345982Z"
        },
        "trusted": true,
        "id": "enUjwq6ZdumA",
        "outputId": "6d11b14b-78e0-4948-91b2-ec62776d7c2c"
      },
      "execution_count": null,
      "outputs": [
        {
          "execution_count": 255,
          "output_type": "execute_result",
          "data": {
            "text/plain": "<AxesSubplot:xlabel='customer_age', ylabel='count'>"
          },
          "metadata": {}
        },
        {
          "output_type": "display_data",
          "data": {
            "text/plain": "<Figure size 576x360 with 1 Axes>",
            "image/png": "[encoded data removed]"
          },
          "metadata": {
            "needs_background": "light"
          }
        }
      ]
    },
    {
      "cell_type": "code",
      "source": [
        "sns.set_palette(sns.color_palette([\"#7FFF82\", \"#FF0000\"]))\n",
        "f, ax = plt.subplots(figsize = (8, 5))\n",
        "sns.countplot(x = df['employment_status'], hue = df['fraud_bool'])"
      ],
      "metadata": {
        "execution": {
          "iopub.status.busy": "2022-12-14T15:16:28.349107Z",
          "iopub.execute_input": "2022-12-14T15:16:28.351422Z",
          "iopub.status.idle": "2022-12-14T15:16:29.400364Z",
          "shell.execute_reply.started": "2022-12-14T15:16:28.351364Z",
          "shell.execute_reply": "2022-12-14T15:16:29.399147Z"
        },
        "trusted": true,
        "id": "bdGUd3e5dumC",
        "outputId": "7f5b7439-1fe5-470b-eb8b-4fb0e23a260d"
      },
      "execution_count": null,
      "outputs": [
        {
          "execution_count": 256,
          "output_type": "execute_result",
          "data": {
            "text/plain": "<AxesSubplot:xlabel='employment_status', ylabel='count'>"
          },
          "metadata": {}
        },
        {
          "output_type": "display_data",
          "data": {
            "text/plain": "<Figure size 576x360 with 1 Axes>",
            "image/png": "[encoded data removed]"
          },
          "metadata": {
            "needs_background": "light"
          }
        }
      ]
    },
    {
      "cell_type": "code",
      "source": [
        "sns.set_palette(sns.color_palette([\"#7FFF82\", \"#FF0000\"]))\n",
        "f, ax = plt.subplots(figsize = (8, 5))\n",
        "sns.countplot(x = df['foreign_request'], hue = df['fraud_bool'])"
      ],
      "metadata": {
        "execution": {
          "iopub.status.busy": "2022-12-14T15:16:29.403964Z",
          "iopub.execute_input": "2022-12-14T15:16:29.404785Z",
          "iopub.status.idle": "2022-12-14T15:16:29.789494Z",
          "shell.execute_reply.started": "2022-12-14T15:16:29.404741Z",
          "shell.execute_reply": "2022-12-14T15:16:29.788627Z"
        },
        "trusted": true,
        "id": "SfjjxPAbdumE",
        "outputId": "5f19aa7a-e799-4870-eb37-17ec765b66e8"
      },
      "execution_count": null,
      "outputs": [
        {
          "execution_count": 257,
          "output_type": "execute_result",
          "data": {
            "text/plain": "<AxesSubplot:xlabel='foreign_request', ylabel='count'>"
          },
          "metadata": {}
        },
        {
          "output_type": "display_data",
          "data": {
            "text/plain": "<Figure size 576x360 with 1 Axes>",
            "image/png": "[encoded data removed]"
          },
          "metadata": {
            "needs_background": "light"
          }
        }
      ]
    },
    {
      "cell_type": "code",
      "source": [
        "#sns.set_palette(sns.color_palette([\"#7FFF82\", \"#FF0000\"]))\n",
        "#f, ax = plt.subplots(figsize = (8, 5))\n",
        "#sns.countplot(x = df['name_email_similarity'], hue = df['fraud_bool'])"
      ],
      "metadata": {
        "execution": {
          "iopub.status.busy": "2022-12-14T15:16:29.792811Z",
          "iopub.execute_input": "2022-12-14T15:16:29.793927Z",
          "iopub.status.idle": "2022-12-14T15:16:29.798569Z",
          "shell.execute_reply.started": "2022-12-14T15:16:29.793869Z",
          "shell.execute_reply": "2022-12-14T15:16:29.797251Z"
        },
        "trusted": true,
        "id": "lXLp8TfbdumF"
      },
      "execution_count": null,
      "outputs": []
    },
    {
      "cell_type": "code",
      "source": [
        "sns.set_palette(sns.color_palette([\"#7FFF82\", \"#FF0000\"]))\n",
        "f, ax = plt.subplots(figsize = (8, 5))\n",
        "sns.countplot(x = df['income'], hue = df['fraud_bool'])"
      ],
      "metadata": {
        "execution": {
          "iopub.status.busy": "2022-12-14T15:16:29.800121Z",
          "iopub.execute_input": "2022-12-14T15:16:29.800635Z",
          "iopub.status.idle": "2022-12-14T15:16:30.316647Z",
          "shell.execute_reply.started": "2022-12-14T15:16:29.800589Z",
          "shell.execute_reply": "2022-12-14T15:16:30.315388Z"
        },
        "trusted": true,
        "id": "zIbaezBgdumG",
        "outputId": "ce2bdefb-b634-4676-d1a6-0ee6c781a2ef"
      },
      "execution_count": null,
      "outputs": [
        {
          "execution_count": 259,
          "output_type": "execute_result",
          "data": {
            "text/plain": "<AxesSubplot:xlabel='income', ylabel='count'>"
          },
          "metadata": {}
        },
        {
          "output_type": "display_data",
          "data": {
            "text/plain": "<Figure size 576x360 with 1 Axes>",
            "image/png": "[encoded data removed]"
          },
          "metadata": {
            "needs_background": "light"
          }
        }
      ]
    },
    {
      "cell_type": "code",
      "source": [
        "sns.set_palette(sns.color_palette([\"#7FFF82\", \"#FF0000\"]))\n",
        "f, ax = plt.subplots(figsize = (8, 5))\n",
        "sns.countplot(x = df['payment_type'], hue = df['fraud_bool'])"
      ],
      "metadata": {
        "execution": {
          "iopub.status.busy": "2022-12-14T15:16:30.318229Z",
          "iopub.execute_input": "2022-12-14T15:16:30.318632Z",
          "iopub.status.idle": "2022-12-14T15:16:31.324270Z",
          "shell.execute_reply.started": "2022-12-14T15:16:30.318595Z",
          "shell.execute_reply": "2022-12-14T15:16:31.323206Z"
        },
        "trusted": true,
        "id": "LmfHEyV-dumH",
        "outputId": "f71c02b7-6fde-4a55-90d8-a501e2917727"
      },
      "execution_count": null,
      "outputs": [
        {
          "execution_count": 260,
          "output_type": "execute_result",
          "data": {
            "text/plain": "<AxesSubplot:xlabel='payment_type', ylabel='count'>"
          },
          "metadata": {}
        },
        {
          "output_type": "display_data",
          "data": {
            "text/plain": "<Figure size 576x360 with 1 Axes>",
            "image/png": "[encoded data removed]"
          },
          "metadata": {
            "needs_background": "light"
          }
        }
      ]
    },
    {
      "cell_type": "code",
      "source": [
        "sns.set_palette(sns.color_palette([\"#7FFF82\", \"#FF0000\"]))\n",
        "f, ax = plt.subplots(figsize = (8, 5))\n",
        "sns.countplot(x = df['zip_count_4w'], hue = df['fraud_bool'])"
      ],
      "metadata": {
        "execution": {
          "iopub.status.busy": "2022-12-14T15:16:31.325925Z",
          "iopub.execute_input": "2022-12-14T15:16:31.326385Z",
          "iopub.status.idle": "2022-12-14T15:18:13.697168Z",
          "shell.execute_reply.started": "2022-12-14T15:16:31.326346Z",
          "shell.execute_reply": "2022-12-14T15:18:13.695951Z"
        },
        "trusted": true,
        "id": "BNFxbUpzdumI",
        "outputId": "916651b4-b677-4a95-c07f-bb6ba87464a3"
      },
      "execution_count": null,
      "outputs": [
        {
          "execution_count": 261,
          "output_type": "execute_result",
          "data": {
            "text/plain": "<AxesSubplot:xlabel='zip_count_4w', ylabel='count'>"
          },
          "metadata": {}
        },
        {
          "output_type": "display_data",
          "data": {
            "text/plain": "<Figure size 576x360 with 1 Axes>",
            "image/png": "[encoded data removed]"
          },
          "metadata": {
            "needs_background": "light"
          }
        }
      ]
    },
    {
      "cell_type": "code",
      "source": [
        "df"
      ],
      "metadata": {
        "execution": {
          "iopub.status.busy": "2022-12-14T15:18:13.699104Z",
          "iopub.execute_input": "2022-12-14T15:18:13.699542Z",
          "iopub.status.idle": "2022-12-14T15:18:13.998644Z",
          "shell.execute_reply.started": "2022-12-14T15:18:13.699504Z",
          "shell.execute_reply": "2022-12-14T15:18:13.997430Z"
        },
        "trusted": true,
        "id": "o_GTC-LRdumJ",
        "outputId": "78452afa-0bea-4dae-c8a9-5609212c821b"
      },
      "execution_count": null,
      "outputs": [
        {
          "execution_count": 262,
          "output_type": "execute_result",
          "data": {
            "text/plain": "        fraud_bool  income  name_email_similarity  prev_address_months_count  \\\n0                1     0.9               0.166828                         -1   \n1                1     0.9               0.296286                         -1   \n2                1     0.9               0.044985                         -1   \n3                1     0.9               0.159511                         -1   \n4                1     0.9               0.596414                         -1   \n...            ...     ...                    ...                        ...   \n999995           0     0.6               0.192631                         -1   \n999996           0     0.8               0.322989                        148   \n999997           0     0.8               0.879403                         -1   \n999998           0     0.9               0.762112                         -1   \n999999           0     0.2               0.697452                         -1   \n\n        current_address_months_count  customer_age  days_since_request  \\\n0                                 88            50            0.020925   \n1                                144            50            0.005418   \n2                                132            40            3.108549   \n3                                 22            50            0.019079   \n4                                218            50            0.004441   \n...                              ...           ...                 ...   \n999995                           104            40            0.030592   \n999996                             9            50            1.628119   \n999997                            30            20            0.018563   \n999998                           189            20            0.015352   \n999999                           321            20            2.655916   \n\n        intended_balcon_amount payment_type  zip_count_4w  ...  \\\n0                    -1.331345           AA           769  ...   \n1                    -0.816224           AB           366  ...   \n2                    -0.755728           AC           870  ...   \n3                    -1.205124           AB           810  ...   \n4                    -0.773276           AB           890  ...   \n...                        ...          ...           ...  ...   \n999995               -1.044454           AB           804  ...   \n999996               -1.409803           AC          3306  ...   \n999997               34.692760           AA          1522  ...   \n999998               94.661055           AA          1418  ...   \n999999                9.908499           AA           951  ...   \n\n        has_other_cards  proposed_credit_limit  foreign_request    source  \\\n0                     0                  500.0                0  INTERNET   \n1                     0                 1500.0                0  INTERNET   \n2                     0                  200.0                0  INTERNET   \n3                     1                  200.0                0  INTERNET   \n4                     0                 1500.0                0  INTERNET   \n...                 ...                    ...              ...       ...   \n999995                0                  200.0                0  INTERNET   \n999996                0                  200.0                0  INTERNET   \n999997                0                  200.0                0  INTERNET   \n999998                0                  500.0                0  INTERNET   \n999999                0                  200.0                0  INTERNET   \n\n        session_length_in_minutes  device_os  keep_alive_session  \\\n0                        3.888115    windows                   0   \n1                       31.798819    windows                   0   \n2                        4.728705      other                   0   \n3                        2.047904      linux                   0   \n4                        3.775225  macintosh                   1   \n...                           ...        ...                 ...   \n999995                   8.511502      linux                   1   \n999996                   8.967865    windows                   0   \n999997                   8.195531      other                   0   \n999998                   4.336064    windows                   1   \n999999                   6.717022      linux                   0   \n\n        device_distinct_emails_8w device_fraud_count  month  \n0                               1                  0      7  \n1                               1                  0      7  \n2                               1                  0      7  \n3                               1                  0      7  \n4                               1                  0      7  \n...                           ...                ...    ...  \n999995                          1                  0      4  \n999996                          1                  0      4  \n999997                          1                  0      4  \n999998                          1                  0      4  \n999999                          1                  0      4  \n\n[1000000 rows x 32 columns]",
            "text/html": "<div>\n<style scoped>\n    .dataframe tbody tr th:only-of-type {\n        vertical-align: middle;\n    }\n\n    .dataframe tbody tr th {\n        vertical-align: top;\n    }\n\n    .dataframe thead th {\n        text-align: right;\n    }\n</style>\n<table border=\"1\" class=\"dataframe\">\n  <thead>\n    <tr style=\"text-align: right;\">\n      <th></th>\n      <th>fraud_bool</th>\n      <th>income</th>\n      <th>name_email_similarity</th>\n      <th>prev_address_months_count</th>\n      <th>current_address_months_count</th>\n      <th>customer_age</th>\n      <th>days_since_request</th>\n      <th>intended_balcon_amount</th>\n      <th>payment_type</th>\n      <th>zip_count_4w</th>\n      <th>...</th>\n      <th>has_other_cards</th>\n      <th>proposed_credit_limit</th>\n      <th>foreign_request</th>\n      <th>source</th>\n      <th>session_length_in_minutes</th>\n      <th>device_os</th>\n      <th>keep_alive_session</th>\n      <th>device_distinct_emails_8w</th>\n      <th>device_fraud_count</th>\n      <th>month</th>\n    </tr>\n  </thead>\n  <tbody>\n    <tr>\n      <th>0</th>\n      <td>1</td>\n      <td>0.9</td>\n      <td>0.166828</td>\n      <td>-1</td>\n      <td>88</td>\n      <td>50</td>\n      <td>0.020925</td>\n      <td>-1.331345</td>\n      <td>AA</td>\n      <td>769</td>\n      <td>...</td>\n      <td>0</td>\n      <td>500.0</td>\n      <td>0</td>\n      <td>INTERNET</td>\n      <td>3.888115</td>\n      <td>windows</td>\n      <td>0</td>\n      <td>1</td>\n      <td>0</td>\n      <td>7</td>\n    </tr>\n    <tr>\n      <th>1</th>\n      <td>1</td>\n      <td>0.9</td>\n      <td>0.296286</td>\n      <td>-1</td>\n      <td>144</td>\n      <td>50</td>\n      <td>0.005418</td>\n      <td>-0.816224</td>\n      <td>AB</td>\n      <td>366</td>\n      <td>...</td>\n      <td>0</td>\n      <td>1500.0</td>\n      <td>0</td>\n      <td>INTERNET</td>\n      <td>31.798819</td>\n      <td>windows</td>\n      <td>0</td>\n      <td>1</td>\n      <td>0</td>\n      <td>7</td>\n    </tr>\n    <tr>\n      <th>2</th>\n      <td>1</td>\n      <td>0.9</td>\n      <td>0.044985</td>\n      <td>-1</td>\n      <td>132</td>\n      <td>40</td>\n      <td>3.108549</td>\n      <td>-0.755728</td>\n      <td>AC</td>\n      <td>870</td>\n      <td>...</td>\n      <td>0</td>\n      <td>200.0</td>\n      <td>0</td>\n      <td>INTERNET</td>\n      <td>4.728705</td>\n      <td>other</td>\n      <td>0</td>\n      <td>1</td>\n      <td>0</td>\n      <td>7</td>\n    </tr>\n    <tr>\n      <th>3</th>\n      <td>1</td>\n      <td>0.9</td>\n      <td>0.159511</td>\n      <td>-1</td>\n      <td>22</td>\n      <td>50</td>\n      <td>0.019079</td>\n      <td>-1.205124</td>\n      <td>AB</td>\n      <td>810</td>\n      <td>...</td>\n      <td>1</td>\n      <td>200.0</td>\n      <td>0</td>\n      <td>INTERNET</td>\n      <td>2.047904</td>\n      <td>linux</td>\n      <td>0</td>\n      <td>1</td>\n      <td>0</td>\n      <td>7</td>\n    </tr>\n    <tr>\n      <th>4</th>\n      <td>1</td>\n      <td>0.9</td>\n      <td>0.596414</td>\n      <td>-1</td>\n      <td>218</td>\n      <td>50</td>\n      <td>0.004441</td>\n      <td>-0.773276</td>\n      <td>AB</td>\n      <td>890</td>\n      <td>...</td>\n      <td>0</td>\n      <td>1500.0</td>\n      <td>0</td>\n      <td>INTERNET</td>\n      <td>3.775225</td>\n      <td>macintosh</td>\n      <td>1</td>\n      <td>1</td>\n      <td>0</td>\n      <td>7</td>\n    </tr>\n    <tr>\n      <th>...</th>\n      <td>...</td>\n      <td>...</td>\n      <td>...</td>\n      <td>...</td>\n      <td>...</td>\n      <td>...</td>\n      <td>...</td>\n      <td>...</td>\n      <td>...</td>\n      <td>...</td>\n      <td>...</td>\n      <td>...</td>\n      <td>...</td>\n      <td>...</td>\n      <td>...</td>\n      <td>...</td>\n      <td>...</td>\n      <td>...</td>\n      <td>...</td>\n      <td>...</td>\n      <td>...</td>\n    </tr>\n    <tr>\n      <th>999995</th>\n      <td>0</td>\n      <td>0.6</td>\n      <td>0.192631</td>\n      <td>-1</td>\n      <td>104</td>\n      <td>40</td>\n      <td>0.030592</td>\n      <td>-1.044454</td>\n      <td>AB</td>\n      <td>804</td>\n      <td>...</td>\n      <td>0</td>\n      <td>200.0</td>\n      <td>0</td>\n      <td>INTERNET</td>\n      <td>8.511502</td>\n      <td>linux</td>\n      <td>1</td>\n      <td>1</td>\n      <td>0</td>\n      <td>4</td>\n    </tr>\n    <tr>\n      <th>999996</th>\n      <td>0</td>\n      <td>0.8</td>\n      <td>0.322989</td>\n      <td>148</td>\n      <td>9</td>\n      <td>50</td>\n      <td>1.628119</td>\n      <td>-1.409803</td>\n      <td>AC</td>\n      <td>3306</td>\n      <td>...</td>\n      <td>0</td>\n      <td>200.0</td>\n      <td>0</td>\n      <td>INTERNET</td>\n      <td>8.967865</td>\n      <td>windows</td>\n      <td>0</td>\n      <td>1</td>\n      <td>0</td>\n      <td>4</td>\n    </tr>\n    <tr>\n      <th>999997</th>\n      <td>0</td>\n      <td>0.8</td>\n      <td>0.879403</td>\n      <td>-1</td>\n      <td>30</td>\n      <td>20</td>\n      <td>0.018563</td>\n      <td>34.692760</td>\n      <td>AA</td>\n      <td>1522</td>\n      <td>...</td>\n      <td>0</td>\n      <td>200.0</td>\n      <td>0</td>\n      <td>INTERNET</td>\n      <td>8.195531</td>\n      <td>other</td>\n      <td>0</td>\n      <td>1</td>\n      <td>0</td>\n      <td>4</td>\n    </tr>\n    <tr>\n      <th>999998</th>\n      <td>0</td>\n      <td>0.9</td>\n      <td>0.762112</td>\n      <td>-1</td>\n      <td>189</td>\n      <td>20</td>\n      <td>0.015352</td>\n      <td>94.661055</td>\n      <td>AA</td>\n      <td>1418</td>\n      <td>...</td>\n      <td>0</td>\n      <td>500.0</td>\n      <td>0</td>\n      <td>INTERNET</td>\n      <td>4.336064</td>\n      <td>windows</td>\n      <td>1</td>\n      <td>1</td>\n      <td>0</td>\n      <td>4</td>\n    </tr>\n    <tr>\n      <th>999999</th>\n      <td>0</td>\n      <td>0.2</td>\n      <td>0.697452</td>\n      <td>-1</td>\n      <td>321</td>\n      <td>20</td>\n      <td>2.655916</td>\n      <td>9.908499</td>\n      <td>AA</td>\n      <td>951</td>\n      <td>...</td>\n      <td>0</td>\n      <td>200.0</td>\n      <td>0</td>\n      <td>INTERNET</td>\n      <td>6.717022</td>\n      <td>linux</td>\n      <td>0</td>\n      <td>1</td>\n      <td>0</td>\n      <td>4</td>\n    </tr>\n  </tbody>\n</table>\n<p>1000000 rows × 32 columns</p>\n</div>"
          },
          "metadata": {}
        }
      ]
    },
    {
      "cell_type": "code",
      "source": [
        "y = df[\"fraud_bool\"]\n",
        "X = df.drop([\"fraud_bool\", \"device_os\", \"device_fraud_count\", \"month\"], axis = 1)\n",
        "X = pd.get_dummies(X)\n",
        "X"
      ],
      "metadata": {
        "execution": {
          "iopub.status.busy": "2022-12-14T15:18:13.999989Z",
          "iopub.execute_input": "2022-12-14T15:18:14.000406Z",
          "iopub.status.idle": "2022-12-14T15:18:14.868774Z",
          "shell.execute_reply.started": "2022-12-14T15:18:14.000372Z",
          "shell.execute_reply": "2022-12-14T15:18:14.867677Z"
        },
        "trusted": true,
        "id": "Z7Doj8WJdumK",
        "outputId": "174fec0b-97d8-455d-a06a-e74ad48e95f8"
      },
      "execution_count": null,
      "outputs": [
        {
          "execution_count": 263,
          "output_type": "execute_result",
          "data": {
            "text/plain": "        income  name_email_similarity  prev_address_months_count  \\\n0          0.9               0.166828                         -1   \n1          0.9               0.296286                         -1   \n2          0.9               0.044985                         -1   \n3          0.9               0.159511                         -1   \n4          0.9               0.596414                         -1   \n...        ...                    ...                        ...   \n999995     0.6               0.192631                         -1   \n999996     0.8               0.322989                        148   \n999997     0.8               0.879403                         -1   \n999998     0.9               0.762112                         -1   \n999999     0.2               0.697452                         -1   \n\n        current_address_months_count  customer_age  days_since_request  \\\n0                                 88            50            0.020925   \n1                                144            50            0.005418   \n2                                132            40            3.108549   \n3                                 22            50            0.019079   \n4                                218            50            0.004441   \n...                              ...           ...                 ...   \n999995                           104            40            0.030592   \n999996                             9            50            1.628119   \n999997                            30            20            0.018563   \n999998                           189            20            0.015352   \n999999                           321            20            2.655916   \n\n        intended_balcon_amount  zip_count_4w   velocity_6h  velocity_24h  ...  \\\n0                    -1.331345           769  10650.765523   3134.319630  ...   \n1                    -0.816224           366    534.047319   2670.918292  ...   \n2                    -0.755728           870   4048.534263   2893.621498  ...   \n3                    -1.205124           810   3457.064063   4054.908412  ...   \n4                    -0.773276           890   5020.341679   2728.237159  ...   \n...                        ...           ...           ...           ...  ...   \n999995               -1.044454           804   7905.711839   8341.468557  ...   \n999996               -1.409803          3306   5391.470463   4955.170808  ...   \n999997               34.692760          1522   8063.102636   5670.654316  ...   \n999998               94.661055          1418   8092.641762   3982.582204  ...   \n999999                9.908499           951   6169.630036   3695.308261  ...   \n\n        employment_status_CG  housing_status_BA  housing_status_BB  \\\n0                          0                  1                  0   \n1                          0                  1                  0   \n2                          0                  1                  0   \n3                          0                  1                  0   \n4                          0                  1                  0   \n...                      ...                ...                ...   \n999995                     0                  0                  0   \n999996                     0                  0                  0   \n999997                     0                  0                  0   \n999998                     0                  1                  0   \n999999                     0                  0                  0   \n\n        housing_status_BC  housing_status_BD  housing_status_BE  \\\n0                       0                  0                  0   \n1                       0                  0                  0   \n2                       0                  0                  0   \n3                       0                  0                  0   \n4                       0                  0                  0   \n...                   ...                ...                ...   \n999995                  1                  0                  0   \n999996                  1                  0                  0   \n999997                  1                  0                  0   \n999998                  0                  0                  0   \n999999                  0                  0                  1   \n\n        housing_status_BF  housing_status_BG  source_INTERNET  source_TELEAPP  \n0                       0                  0                1               0  \n1                       0                  0                1               0  \n2                       0                  0                1               0  \n3                       0                  0                1               0  \n4                       0                  0                1               0  \n...                   ...                ...              ...             ...  \n999995                  0                  0                1               0  \n999996                  0                  0                1               0  \n999997                  0                  0                1               0  \n999998                  0                  0                1               0  \n999999                  0                  0                1               0  \n\n[1000000 rows x 45 columns]",
            "text/html": "<div>\n<style scoped>\n    .dataframe tbody tr th:only-of-type {\n        vertical-align: middle;\n    }\n\n    .dataframe tbody tr th {\n        vertical-align: top;\n    }\n\n    .dataframe thead th {\n        text-align: right;\n    }\n</style>\n<table border=\"1\" class=\"dataframe\">\n  <thead>\n    <tr style=\"text-align: right;\">\n      <th></th>\n      <th>income</th>\n      <th>name_email_similarity</th>\n      <th>prev_address_months_count</th>\n      <th>current_address_months_count</th>\n      <th>customer_age</th>\n      <th>days_since_request</th>\n      <th>intended_balcon_amount</th>\n      <th>zip_count_4w</th>\n      <th>velocity_6h</th>\n      <th>velocity_24h</th>\n      <th>...</th>\n      <th>employment_status_CG</th>\n      <th>housing_status_BA</th>\n      <th>housing_status_BB</th>\n      <th>housing_status_BC</th>\n      <th>housing_status_BD</th>\n      <th>housing_status_BE</th>\n      <th>housing_status_BF</th>\n      <th>housing_status_BG</th>\n      <th>source_INTERNET</th>\n      <th>source_TELEAPP</th>\n    </tr>\n  </thead>\n  <tbody>\n    <tr>\n      <th>0</th>\n      <td>0.9</td>\n      <td>0.166828</td>\n      <td>-1</td>\n      <td>88</td>\n      <td>50</td>\n      <td>0.020925</td>\n      <td>-1.331345</td>\n      <td>769</td>\n      <td>10650.765523</td>\n      <td>3134.319630</td>\n      <td>...</td>\n      <td>0</td>\n      <td>1</td>\n      <td>0</td>\n      <td>0</td>\n      <td>0</td>\n      <td>0</td>\n      <td>0</td>\n      <td>0</td>\n      <td>1</td>\n      <td>0</td>\n    </tr>\n    <tr>\n      <th>1</th>\n      <td>0.9</td>\n      <td>0.296286</td>\n      <td>-1</td>\n      <td>144</td>\n      <td>50</td>\n      <td>0.005418</td>\n      <td>-0.816224</td>\n      <td>366</td>\n      <td>534.047319</td>\n      <td>2670.918292</td>\n      <td>...</td>\n      <td>0</td>\n      <td>1</td>\n      <td>0</td>\n      <td>0</td>\n      <td>0</td>\n      <td>0</td>\n      <td>0</td>\n      <td>0</td>\n      <td>1</td>\n      <td>0</td>\n    </tr>\n    <tr>\n      <th>2</th>\n      <td>0.9</td>\n      <td>0.044985</td>\n      <td>-1</td>\n      <td>132</td>\n      <td>40</td>\n      <td>3.108549</td>\n      <td>-0.755728</td>\n      <td>870</td>\n      <td>4048.534263</td>\n      <td>2893.621498</td>\n      <td>...</td>\n      <td>0</td>\n      <td>1</td>\n      <td>0</td>\n      <td>0</td>\n      <td>0</td>\n      <td>0</td>\n      <td>0</td>\n      <td>0</td>\n      <td>1</td>\n      <td>0</td>\n    </tr>\n    <tr>\n      <th>3</th>\n      <td>0.9</td>\n      <td>0.159511</td>\n      <td>-1</td>\n      <td>22</td>\n      <td>50</td>\n      <td>0.019079</td>\n      <td>-1.205124</td>\n      <td>810</td>\n      <td>3457.064063</td>\n      <td>4054.908412</td>\n      <td>...</td>\n      <td>0</td>\n      <td>1</td>\n      <td>0</td>\n      <td>0</td>\n      <td>0</td>\n      <td>0</td>\n      <td>0</td>\n      <td>0</td>\n      <td>1</td>\n      <td>0</td>\n    </tr>\n    <tr>\n      <th>4</th>\n      <td>0.9</td>\n      <td>0.596414</td>\n      <td>-1</td>\n      <td>218</td>\n      <td>50</td>\n      <td>0.004441</td>\n      <td>-0.773276</td>\n      <td>890</td>\n      <td>5020.341679</td>\n      <td>2728.237159</td>\n      <td>...</td>\n      <td>0</td>\n      <td>1</td>\n      <td>0</td>\n      <td>0</td>\n      <td>0</td>\n      <td>0</td>\n      <td>0</td>\n      <td>0</td>\n      <td>1</td>\n      <td>0</td>\n    </tr>\n    <tr>\n      <th>...</th>\n      <td>...</td>\n      <td>...</td>\n      <td>...</td>\n      <td>...</td>\n      <td>...</td>\n      <td>...</td>\n      <td>...</td>\n      <td>...</td>\n      <td>...</td>\n      <td>...</td>\n      <td>...</td>\n      <td>...</td>\n      <td>...</td>\n      <td>...</td>\n      <td>...</td>\n      <td>...</td>\n      <td>...</td>\n      <td>...</td>\n      <td>...</td>\n      <td>...</td>\n      <td>...</td>\n    </tr>\n    <tr>\n      <th>999995</th>\n      <td>0.6</td>\n      <td>0.192631</td>\n      <td>-1</td>\n      <td>104</td>\n      <td>40</td>\n      <td>0.030592</td>\n      <td>-1.044454</td>\n      <td>804</td>\n      <td>7905.711839</td>\n      <td>8341.468557</td>\n      <td>...</td>\n      <td>0</td>\n      <td>0</td>\n      <td>0</td>\n      <td>1</td>\n      <td>0</td>\n      <td>0</td>\n      <td>0</td>\n      <td>0</td>\n      <td>1</td>\n      <td>0</td>\n    </tr>\n    <tr>\n      <th>999996</th>\n      <td>0.8</td>\n      <td>0.322989</td>\n      <td>148</td>\n      <td>9</td>\n      <td>50</td>\n      <td>1.628119</td>\n      <td>-1.409803</td>\n      <td>3306</td>\n      <td>5391.470463</td>\n      <td>4955.170808</td>\n      <td>...</td>\n      <td>0</td>\n      <td>0</td>\n      <td>0</td>\n      <td>1</td>\n      <td>0</td>\n      <td>0</td>\n      <td>0</td>\n      <td>0</td>\n      <td>1</td>\n      <td>0</td>\n    </tr>\n    <tr>\n      <th>999997</th>\n      <td>0.8</td>\n      <td>0.879403</td>\n      <td>-1</td>\n      <td>30</td>\n      <td>20</td>\n      <td>0.018563</td>\n      <td>34.692760</td>\n      <td>1522</td>\n      <td>8063.102636</td>\n      <td>5670.654316</td>\n      <td>...</td>\n      <td>0</td>\n      <td>0</td>\n      <td>0</td>\n      <td>1</td>\n      <td>0</td>\n      <td>0</td>\n      <td>0</td>\n      <td>0</td>\n      <td>1</td>\n      <td>0</td>\n    </tr>\n    <tr>\n      <th>999998</th>\n      <td>0.9</td>\n      <td>0.762112</td>\n      <td>-1</td>\n      <td>189</td>\n      <td>20</td>\n      <td>0.015352</td>\n      <td>94.661055</td>\n      <td>1418</td>\n      <td>8092.641762</td>\n      <td>3982.582204</td>\n      <td>...</td>\n      <td>0</td>\n      <td>1</td>\n      <td>0</td>\n      <td>0</td>\n      <td>0</td>\n      <td>0</td>\n      <td>0</td>\n      <td>0</td>\n      <td>1</td>\n      <td>0</td>\n    </tr>\n    <tr>\n      <th>999999</th>\n      <td>0.2</td>\n      <td>0.697452</td>\n      <td>-1</td>\n      <td>321</td>\n      <td>20</td>\n      <td>2.655916</td>\n      <td>9.908499</td>\n      <td>951</td>\n      <td>6169.630036</td>\n      <td>3695.308261</td>\n      <td>...</td>\n      <td>0</td>\n      <td>0</td>\n      <td>0</td>\n      <td>0</td>\n      <td>0</td>\n      <td>1</td>\n      <td>0</td>\n      <td>0</td>\n      <td>1</td>\n      <td>0</td>\n    </tr>\n  </tbody>\n</table>\n<p>1000000 rows × 45 columns</p>\n</div>"
          },
          "metadata": {}
        }
      ]
    },
    {
      "cell_type": "markdown",
      "source": [
        "Тесты"
      ],
      "metadata": {
        "id": "ZdwVqz1TdumK"
      }
    },
    {
      "cell_type": "code",
      "source": [
        "X_train, X_test, y_train, y_test = train_test_split(X, y, test_size = 0.2, random_state = 13)"
      ],
      "metadata": {
        "execution": {
          "iopub.status.busy": "2022-12-14T15:18:14.870512Z",
          "iopub.execute_input": "2022-12-14T15:18:14.870949Z",
          "iopub.status.idle": "2022-12-14T15:18:16.138694Z",
          "shell.execute_reply.started": "2022-12-14T15:18:14.870898Z",
          "shell.execute_reply": "2022-12-14T15:18:16.137402Z"
        },
        "trusted": true,
        "id": "4adyTNkkdumL"
      },
      "execution_count": null,
      "outputs": []
    },
    {
      "cell_type": "code",
      "source": [
        "scaler = StandardScaler()\n",
        "X_train = scaler.fit_transform(X_train)\n",
        "X_test = scaler.transform(X_test)"
      ],
      "metadata": {
        "execution": {
          "iopub.status.busy": "2022-12-14T15:18:16.140326Z",
          "iopub.execute_input": "2022-12-14T15:18:16.140733Z",
          "iopub.status.idle": "2022-12-14T15:18:16.695374Z",
          "shell.execute_reply.started": "2022-12-14T15:18:16.140695Z",
          "shell.execute_reply": "2022-12-14T15:18:16.694338Z"
        },
        "trusted": true,
        "id": "oO1D52u7dumM"
      },
      "execution_count": null,
      "outputs": []
    },
    {
      "cell_type": "code",
      "source": [
        "labelencoder = LabelEncoder()\n",
        "y_train =  labelencoder.fit_transform(y_train)\n",
        "y_test = labelencoder.transform(y_test)"
      ],
      "metadata": {
        "execution": {
          "iopub.status.busy": "2022-12-14T15:18:16.696948Z",
          "iopub.execute_input": "2022-12-14T15:18:16.697315Z",
          "iopub.status.idle": "2022-12-14T15:18:16.735025Z",
          "shell.execute_reply.started": "2022-12-14T15:18:16.697280Z",
          "shell.execute_reply": "2022-12-14T15:18:16.734050Z"
        },
        "trusted": true,
        "id": "LcbS5Y4MdumN"
      },
      "execution_count": null,
      "outputs": []
    },
    {
      "cell_type": "code",
      "source": [
        "knn = KNeighborsClassifier().fit(X_train, y_train)\n",
        "y_p_knn = knn.predict(X_test)\n",
        "accuracy_score(y_test, y_p_knn)"
      ],
      "metadata": {
        "execution": {
          "iopub.status.busy": "2022-12-14T15:18:16.736365Z",
          "iopub.execute_input": "2022-12-14T15:18:16.736707Z",
          "iopub.status.idle": "2022-12-14T16:23:31.856922Z",
          "shell.execute_reply.started": "2022-12-14T15:18:16.736676Z",
          "shell.execute_reply": "2022-12-14T16:23:31.854240Z"
        },
        "trusted": true,
        "id": "n8Gu26qFdumO",
        "outputId": "0b0b52c3-cf8a-4500-ab75-f31ba17b307f"
      },
      "execution_count": null,
      "outputs": [
        {
          "execution_count": 267,
          "output_type": "execute_result",
          "data": {
            "text/plain": "0.988885"
          },
          "metadata": {}
        }
      ]
    },
    {
      "cell_type": "code",
      "source": [
        "lr = LogisticRegression(solver=\"saga\").fit(X_train, y_train)\n",
        "y_p_lr = lr.predict(X_test)\n",
        "accuracy_score(y_test, y_p_lr)"
      ],
      "metadata": {
        "execution": {
          "iopub.status.busy": "2022-12-14T16:23:31.860281Z",
          "iopub.execute_input": "2022-12-14T16:23:31.860859Z",
          "iopub.status.idle": "2022-12-14T16:25:13.481077Z",
          "shell.execute_reply.started": "2022-12-14T16:23:31.860790Z",
          "shell.execute_reply": "2022-12-14T16:25:13.479729Z"
        },
        "trusted": true,
        "id": "5uWhVlrfdumP",
        "outputId": "42385e53-e7cf-44ce-bf06-2d76d111de72"
      },
      "execution_count": null,
      "outputs": [
        {
          "name": "stderr",
          "text": "/opt/conda/lib/python3.7/site-packages/sklearn/linear_model/_sag.py:354: ConvergenceWarning: The max_iter was reached which means the coef_ did not converge\n  ConvergenceWarning,\n",
          "output_type": "stream"
        },
        {
          "execution_count": 268,
          "output_type": "execute_result",
          "data": {
            "text/plain": "0.98921"
          },
          "metadata": {}
        }
      ]
    },
    {
      "cell_type": "code",
      "source": [
        "decision_tree = DecisionTreeClassifier().fit(X_train, y_train)\n",
        "y_p_decision_tree = decision_tree.predict(X_test)\n",
        "accuracy_score(y_test, y_p_decision_tree)"
      ],
      "metadata": {
        "execution": {
          "iopub.status.busy": "2022-12-14T16:25:13.483606Z",
          "iopub.execute_input": "2022-12-14T16:25:13.484493Z",
          "iopub.status.idle": "2022-12-14T16:26:01.903308Z",
          "shell.execute_reply.started": "2022-12-14T16:25:13.484439Z",
          "shell.execute_reply": "2022-12-14T16:26:01.902027Z"
        },
        "trusted": true,
        "id": "ieJbtjqxdumQ",
        "outputId": "8df32871-acaf-45a9-9cd3-281cc06234b9"
      },
      "execution_count": null,
      "outputs": [
        {
          "execution_count": 269,
          "output_type": "execute_result",
          "data": {
            "text/plain": "0.977485"
          },
          "metadata": {}
        }
      ]
    },
    {
      "cell_type": "code",
      "source": [
        "random_forest = RandomForestClassifier().fit(X_train, y_train)\n",
        "y_p_random_forest = random_forest.predict(X_test)\n",
        "accuracy_score(y_test, y_p_random_forest)"
      ],
      "metadata": {
        "execution": {
          "iopub.status.busy": "2022-12-14T16:26:01.905308Z",
          "iopub.execute_input": "2022-12-14T16:26:01.905661Z",
          "iopub.status.idle": "2022-12-14T16:34:14.560313Z",
          "shell.execute_reply.started": "2022-12-14T16:26:01.905632Z",
          "shell.execute_reply": "2022-12-14T16:34:14.559104Z"
        },
        "trusted": true,
        "id": "qk9mglw3dumQ",
        "outputId": "2276e511-77a8-4386-bd0a-c91d32bbce5c"
      },
      "execution_count": null,
      "outputs": [
        {
          "execution_count": 270,
          "output_type": "execute_result",
          "data": {
            "text/plain": "0.989145"
          },
          "metadata": {}
        }
      ]
    }
  ]
}