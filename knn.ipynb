{
  "nbformat": 4,
  "nbformat_minor": 0,
  "metadata": {
    "colab": {
      "provenance": []
    },
    "kernelspec": {
      "name": "python3",
      "display_name": "Python 3"
    },
    "language_info": {
      "name": "python"
    }
  },
  "cells": [
    {
      "cell_type": "code",
      "execution_count": null,
      "metadata": {
        "id": "Tqk5eRuiQTS_"
      },
      "outputs": [],
      "source": [
        "import numpy as np\n",
        "import pandas as pd\n",
        "import matplotlib.pyplot as plt\n",
        "from scipy.spatial.distance import cdist\n",
        "from sklearn.datasets import load_iris\n",
        "from sklearn.preprocessing import MinMaxScaler\n",
        "from sklearn.model_selection import train_test_split\n",
        "from sklearn.metrics import accuracy_score"
      ]
    },
    {
      "cell_type": "code",
      "source": [
        "data = load_iris()"
      ],
      "metadata": {
        "id": "__QoF8tVQYIc"
      },
      "execution_count": null,
      "outputs": []
    },
    {
      "cell_type": "code",
      "source": [
        "X = data[\"data\"] \n",
        "y = data[\"target\"] "
      ],
      "metadata": {
        "id": "97_7pvxcQanu"
      },
      "execution_count": null,
      "outputs": []
    },
    {
      "cell_type": "code",
      "source": [
        "df = pd.DataFrame(X, columns=data[\"feature_names\"])"
      ],
      "metadata": {
        "id": "jM1_xXiOQdHO"
      },
      "execution_count": null,
      "outputs": []
    },
    {
      "cell_type": "code",
      "source": [
        "train_X, test_X, train_y, test_y = train_test_split(X, y, test_size=0.2, shuffle=True, random_state=42)"
      ],
      "metadata": {
        "id": "SwhlPOLMQoa1"
      },
      "execution_count": null,
      "outputs": []
    },
    {
      "cell_type": "code",
      "source": [
        "class ParzenWindow:\n",
        "    \n",
        "    def __init__(self, radius):\n",
        "        self.radius = radius\n",
        "        self.X = None\n",
        "        self.y = None\n",
        "        self.n_classes = None\n",
        "    \n",
        "    def fit(self, X, y):\n",
        "        self.X = X\n",
        "        self.y = y\n",
        "        self.n_classes = np.unique(y).size\n",
        "        \n",
        "    def kernel(self, r):\n",
        "        return (1/np.sqrt(2 * np.pi)) * (np.exp((-0.5) * (r ** 2)))\n",
        "    \n",
        "    def predict_proba(self, X):\n",
        "        \n",
        "        distances = cdist(X, self.X)\n",
        "        results = []\n",
        "        for i in range(distances.shape[0]):\n",
        "            dist_row = distances[i]\n",
        "            indexes = np.where(dist_row < self.radius)\n",
        "            distances_lower = dist_row[indexes]\n",
        "            r = distances_lower / self.radius\n",
        "            k = self.kernel(r)\n",
        "            labels = self.y[indexes]\n",
        "            probas = np.zeros(self.n_classes)\n",
        "            for c in range(self.n_classes):\n",
        "                if (labels == c).sum() > 0:\n",
        "                    probas[c] = k[labels == c].sum()\n",
        "            probas /= probas.sum()\n",
        "            results.append(probas)\n",
        "        return results\n",
        "    \n",
        "    def predict(self, X):\n",
        "        probas = self.predict_proba(X)\n",
        "        return np.argmax(probas, axis=1)"
      ],
      "metadata": {
        "id": "wxWgamJxQpAA"
      },
      "execution_count": null,
      "outputs": []
    },
    {
      "cell_type": "code",
      "source": [
        "class KNeighborsClassifier:\n",
        "    \n",
        "    def __init__(self, n_closest):\n",
        "        self.n_closest = n_closest + 1\n",
        "        self.X = None\n",
        "        self.y = None\n",
        "        self.n_classes = None\n",
        "    \n",
        "    def fit(self, X, y):\n",
        "        self.X = X\n",
        "        self.y = y\n",
        "        self.n_classes = np.unique(y).size\n",
        "\n",
        "    def kernel(self, r):\n",
        "        return (1/np.sqrt(2 * np.pi)) * (np.exp((-0.5) * (r ** 2)))\n",
        "\n",
        "    def predict_proba(self, X):\n",
        "        \n",
        "        distances = cdist(X, self.X)\n",
        "        results = []\n",
        "        max_radius = np.sort(distances, axis=1)[:,self.n_closest]\n",
        "\n",
        "        for i in range(distances.shape[0]):\n",
        "            radius = max_radius[i]\n",
        "            dist_row = distances[i]\n",
        "            indexes = np.where(dist_row < radius)\n",
        "            distances_lower = dist_row[indexes]\n",
        "            r = distances_lower / radius\n",
        "            k = self.kernel(r)\n",
        "            labels = self.y[indexes]\n",
        "            probas = np.zeros(self.n_classes)\n",
        "            for c in range(self.n_classes):\n",
        "                if (labels == c).sum() > 0:\n",
        "                    probas[c] = k[labels == c].sum()\n",
        "            probas /= probas.sum()\n",
        "            results.append(probas)\n",
        "        return results\n",
        "    \n",
        "    def predict(self, X):\n",
        "        probas = self.predict_proba(X)\n",
        "        return np.argmax(probas, axis=1)"
      ],
      "metadata": {
        "id": "EJ4zoF5BQr7o"
      },
      "execution_count": null,
      "outputs": []
    },
    {
      "cell_type": "code",
      "source": [
        "knn = KNeighborsClassifier(3)\n",
        "knn.fit(train_X, train_y)\n",
        "pred = knn.predict(test_X)\n",
        "accuracy_score(test_y, pred)"
      ],
      "metadata": {
        "id": "drqBXSqMQvIE",
        "colab": {
          "base_uri": "https://localhost:8080/"
        },
        "outputId": "67f6092e-89d7-45e2-9113-c33f021c9951"
      },
      "execution_count": null,
      "outputs": [
        {
          "output_type": "execute_result",
          "data": {
            "text/plain": [
              "1.0"
            ]
          },
          "metadata": {},
          "execution_count": 8
        }
      ]
    }
  ]
}